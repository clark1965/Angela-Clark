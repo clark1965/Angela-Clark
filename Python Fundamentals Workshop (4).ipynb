{
 "cells": [
  {
   "cell_type": "code",
   "execution_count": 1,
   "id": "72d826aa-16da-40a5-8683-9253de4eec11",
   "metadata": {},
   "outputs": [
    {
     "name": "stdout",
     "output_type": "stream",
     "text": [
      "5 is positive\n"
     ]
    }
   ],
   "source": [
    "number = 5\n",
    "\n",
    "if number > 0:\n",
    "    print (f\"{number} is positive\")\n",
    "elif number < 0:\n",
    "    print (f\"{number} is negative\")\n",
    "else:\n",
    "    print (f\"{number} is zero\")"
   ]
  },
  {
   "cell_type": "code",
   "execution_count": 30,
   "id": "bd226fd0-3246-49b5-bbdb-701e57ffaa15",
   "metadata": {},
   "outputs": [
    {
     "ename": "IndentationError",
     "evalue": "expected an indented block after function definition on line 18 (2591548728.py, line 20)",
     "output_type": "error",
     "traceback": [
      "\u001b[0;36m  Cell \u001b[0;32mIn[30], line 20\u001b[0;36m\u001b[0m\n\u001b[0;31m    test_scores = [95, 82, 71, 61, 55]\u001b[0m\n\u001b[0m    ^\u001b[0m\n\u001b[0;31mIndentationError\u001b[0m\u001b[0;31m:\u001b[0m expected an indented block after function definition on line 18\n"
     ]
    }
   ],
   "source": [
    "int_var = 10\n",
    "print(int_var)\n",
    "boolean_true = True\n",
    "class float:\n",
    "    class bool:\n",
    "        type(grades)\n",
    "    if score>=90:\n",
    "        print(grade)==\"A\"\n",
    "    elif score>=80:\n",
    "        print(grade)==\"B\"\n",
    "    elif score>=70:\n",
    "        print(grade)==\"C\"\n",
    "    elif score>=60:\n",
    "        print(grade)==\"D\"\n",
    "    elif score<60:\n",
    "        print(grade)==\"F\"\n",
    "\n",
    "def calculate_grade(score):\n",
    "    \n",
    "test_scores = [95, 82, 71, 61, 55]\n",
    "for score in test_scores:\n",
    "print(f\"Score: {score}, Grade: {calculate_grade(score)}\")"
   ]
  },
  {
   "cell_type": "code",
   "execution_count": 83,
   "id": "dc48e8e2-bd5a-4f00-adb6-97ff7491c67e",
   "metadata": {},
   "outputs": [
    {
     "ename": "IndentationError",
     "evalue": "expected an indented block after 'for' statement on line 18 (2507794562.py, line 19)",
     "output_type": "error",
     "traceback": [
      "\u001b[0;36m  Cell \u001b[0;32mIn[83], line 19\u001b[0;36m\u001b[0m\n\u001b[0;31m    prices0[position]_prices1[position]:\u001b[0m\n\u001b[0m    ^\u001b[0m\n\u001b[0;31mIndentationError\u001b[0m\u001b[0;31m:\u001b[0m expected an indented block after 'for' statement on line 18\n"
     ]
    }
   ],
   "source": [
    "for price in massive_list_of_prices:\n",
    "    print(apply_discount)\n",
    "\n",
    "#go through each integer in list of integers and apply function\n",
    "#HINT_the name of our temporary element from our collection can be *ANYTHING*\n",
    "\n",
    "price(price)\n",
    "discounted_price_list = []\n",
    "#[100, 500, 1000]\n",
    "for price in prices:\n",
    "    print(apply_discount(joe))\n",
    "\n",
    "prices0 = [50, 150, 600, 1200]\n",
    "prices1 = [100, 500, 1000]\n",
    "print(prices0[0])\n",
    "print(prices1[1])\n",
    "range(0,4,10)\n",
    "for position in range(len(prices0)):  \n",
    "prices0[position]_prices1[position]:\n",
    "print(apply_discount(joe))\n"
   ]
  },
  {
   "cell_type": "code",
   "execution_count": 38,
   "id": "eb243053-115e-4053-823e-ad157f03683d",
   "metadata": {},
   "outputs": [
    {
     "ename": "IndentationError",
     "evalue": "unexpected indent (2122013322.py, line 2)",
     "output_type": "error",
     "traceback": [
      "\u001b[0;36m  Cell \u001b[0;32mIn[38], line 2\u001b[0;36m\u001b[0m\n\u001b[0;31m    print(sample_string, lowercase(\"Hello, Angela!\")),\u001b[0m\n\u001b[0m    ^\u001b[0m\n\u001b[0;31mIndentationError\u001b[0m\u001b[0;31m:\u001b[0m unexpected indent\n"
     ]
    }
   ],
   "source": [
    "sample_string == {\"Hello, Angela}!\"},\n",
    "    print(sample_string, lowercase(\"Hello, Angela!\")),\n",
    "    print(sample_string, replace(\"Hello, Angela!\"))\n",
    "    print(sample_string, split) \n",
    "def greet(Angela):  \"\"\"A simple function that greets a person by name\"\"\"\n",
    "return f\"Hello, {Angela}!\"\n",
    "    print(greet(\"Data Analyst\"))"
   ]
  },
  {
   "cell_type": "code",
   "execution_count": 41,
   "id": "8c975bc2-6055-42c8-b3de-5630d2ffa110",
   "metadata": {},
   "outputs": [
    {
     "ename": "SyntaxError",
     "evalue": "invalid decimal literal (653834244.py, line 5)",
     "output_type": "error",
     "traceback": [
      "\u001b[0;36m  Cell \u001b[0;32mIn[41], line 5\u001b[0;36m\u001b[0m\n\u001b[0;31m    print(f\"{temp}\" C={celsius_to_fahrenheit(temp): .1f}\"F\")\u001b[0m\n\u001b[0m                                                     ^\u001b[0m\n\u001b[0;31mSyntaxError\u001b[0m\u001b[0;31m:\u001b[0m invalid decimal literal\n"
     ]
    }
   ],
   "source": [
    "def convert celsius to fahrenheit\n",
    "formula:  F=C*9/5+32\n",
    "test temperatures _c=[0,25,37,100]\n",
    "for temp in temperatures_c:\n",
    "    print(f\"{temp}\" C={celsius_to_fahrenheit(temp): .1f}\"F\")\n"
   ]
  },
  {
   "cell_type": "code",
   "execution_count": 53,
   "id": "ff9b2be6-ddf2-4920-b7b9-ed125463c1e6",
   "metadata": {},
   "outputs": [
    {
     "ename": "IndentationError",
     "evalue": "expected an indented block after function definition on line 18 (2730225507.py, line 20)",
     "output_type": "error",
     "traceback": [
      "\u001b[0;36m  Cell \u001b[0;32mIn[53], line 20\u001b[0;36m\u001b[0m\n\u001b[0;31m    print(calculator(10,5,\"add\"))\u001b[0m\n\u001b[0m    ^\u001b[0m\n\u001b[0;31mIndentationError\u001b[0m\u001b[0;31m:\u001b[0m expected an indented block after function definition on line 18\n"
     ]
    }
   ],
   "source": [
    "my_list = [1, 2, 3, 4, 5]\n",
    "my_dict = {\"name\": \"Alice\", \"age\": 25}\n",
    "my_tuple = {10, 20, 30}\n",
    "my_list = list(my_tuple)\n",
    "my_set = {10, 20, 30}\n",
    "\n",
    "for element in my_set:\n",
    "    if element in my_list:\n",
    "        my_list.remove(element)\n",
    "\n",
    "new_tuple = tuple(my_list)\n",
    "print(new_tuple)\n",
    "\n",
    "print(my_list[2]) \n",
    "print(my_dict [\"name\"])\n",
    "print(my_tuple[1])\n",
    "\n",
    "def calculator(num1,num2,operation):\n",
    "\n",
    "print(calculator(10,5,\"add\"))\n",
    "print(calculator(10,5,\"subtract\"))        \n",
    "print(calculator(10,5,\"multiply\"))\n",
    "print(calculator(10,5,\"divide\"))\n"
   ]
  },
  {
   "cell_type": "code",
   "execution_count": 59,
   "id": "a5a33a05-8ad5-452a-aca5-464558538a1c",
   "metadata": {},
   "outputs": [
    {
     "name": "stdout",
     "output_type": "stream",
     "text": [
      "Original list: ['apple', 'banana', 'cherry', 'date']\n",
      "First fruit: apple\n",
      "Last fruit: date\n",
      "After modification: ['apple', 'blueberry', 'cherry', 'date']\n",
      "After append: ['apple', 'blueberry', 'cherry', 'date', 'elderberry']\n",
      "Removedapple, List now: ['blueberry', 'cherry', 'date', 'elderberry']\n"
     ]
    }
   ],
   "source": [
    "fruits = [\"apple\", \"banana\", \"cherry\", \"date\"]\n",
    "print(\"Original list:\", fruits)\n",
    "\n",
    "print(\"First fruit:\", fruits[0])\n",
    "print(\"Last fruit:\", fruits[-1])\n",
    "\n",
    "fruits[1] = \"blueberry\"\n",
    "print(\"After modification:\", fruits)\n",
    "\n",
    "fruits.append(\"elderberry\")\n",
    "print(\"After append:\", fruits)\n",
    "\n",
    "removed_fruit=fruits.pop(0)\n",
    "print(f\"Removed{removed_fruit}, List now:\", fruits)\n"
   ]
  },
  {
   "cell_type": "code",
   "execution_count": 85,
   "id": "8c214362-4272-41bf-9a4a-6885edec9197",
   "metadata": {},
   "outputs": [
    {
     "ename": "SyntaxError",
     "evalue": "invalid syntax. Perhaps you forgot a comma? (1281483770.py, line 1)",
     "output_type": "error",
     "traceback": [
      "\u001b[0;36m  Cell \u001b[0;32mIn[85], line 1\u001b[0;36m\u001b[0m\n\u001b[0;31m    list_range_of_values = (minimum value, maximum value, average value,\u001b[0m\n\u001b[0m                            ^\u001b[0m\n\u001b[0;31mSyntaxError\u001b[0m\u001b[0;31m:\u001b[0m invalid syntax. Perhaps you forgot a comma?\n"
     ]
    }
   ],
   "source": [
    "list_range_of_values = (minimum value, maximum value, average value,\n",
    "sum of all values),\n",
    "\n",
    "def calculate_statistics(numbers):\n",
    "test_numbers = [5,12,8,42,23,16]\n",
    "stats = calculate_statistics(test_numbers)\n",
    "print(\"Statistics:\", stats)"
   ]
  },
  {
   "cell_type": "code",
   "execution_count": 70,
   "id": "96a8d00c-39f7-400f-89da-60f5cdf903df",
   "metadata": {},
   "outputs": [
    {
     "ename": "IndentationError",
     "evalue": "expected an indented block after function definition on line 1 (2231506930.py, line 2)",
     "output_type": "error",
     "traceback": [
      "\u001b[0;36m  Cell \u001b[0;32mIn[70], line 2\u001b[0;36m\u001b[0m\n\u001b[0;31m    \"\"\"\u001b[0m\n\u001b[0m    ^\u001b[0m\n\u001b[0;31mIndentationError\u001b[0m\u001b[0;31m:\u001b[0m expected an indented block after function definition on line 1\n"
     ]
    }
   ],
   "source": [
    "def filter_even_numbers_with_filter(numbers):\n",
    "\"\"\"\n",
    "    Filters is a list of numbers to include only the even numbers using the filter(numbers)\n",
    "\n",
    "    Args:\n",
    "    numbers:  A list of integers.\n",
    "\n",
    "    Returns:\n",
    "        A new list containing only the even numbers from the output list\n",
    "\"\"\"\n",
    "return list(filter(lambda number: num%2 == 0, numbers))    "
   ]
  },
  {
   "cell_type": "code",
   "execution_count": 90,
   "id": "cf3af4f7-41fb-4b48-9490-c6cf5336009a",
   "metadata": {},
   "outputs": [
    {
     "name": "stdout",
     "output_type": "stream",
     "text": [
      "Student info: {'name': 'Alex', 'age': 23, 'major': 'Data Science', 'gpa': 3.8}\n",
      "Name: Alex\n",
      "Major: Data Science\n",
      "Updated student info: {'name': 'Alex', 'age': 23, 'major': 'Data Science', 'gpa': 3.8, 'year': 'Senior'}\n",
      "Removed age:  23,_Student info now: {'name': 'Alex', 'major': 'Data Science', 'gpa': 3.8, 'year': 'Senior'}\n"
     ]
    }
   ],
   "source": [
    "student = {\n",
    "\"name\": \"Alex\",\n",
    "\"age\":  23,\n",
    "\"major\":  \"Data Science\",\n",
    "\"gpa\":  3.8\n",
    "}\n",
    "\n",
    "print(\"Student info:\", student)\n",
    "\n",
    "print(\"Name:\", student[\"name\"])\n",
    "print(\"Major:\", student.get(\"major\"))\n",
    "\n",
    "student[\"year\"] = \"Senior\"\n",
    "student[\"gpa\"] = 3.8\n",
    "print(\"Updated student info:\", student)\n",
    "\n",
    "removed_age = student.pop(\"age\")\n",
    "print(f\"Removed age:  {removed_age},_Student info now:\", student)"
   ]
  },
  {
   "cell_type": "code",
   "execution_count": 101,
   "id": "dbf3ce3c-c594-450e-98d7-d2a1d4df5017",
   "metadata": {},
   "outputs": [
    {
     "ename": "IndentationError",
     "evalue": "expected an indented block after function definition on line 9 (161109761.py, line 10)",
     "output_type": "error",
     "traceback": [
      "\u001b[0;36m  Cell \u001b[0;32mIn[101], line 10\u001b[0;36m\u001b[0m\n\u001b[0;31m    return word_counts\u001b[0m\n\u001b[0m    ^\u001b[0m\n\u001b[0;31mIndentationError\u001b[0m\u001b[0;31m:\u001b[0m expected an indented block after function definition on line 9\n"
     ]
    }
   ],
   "source": [
    "str_var = \"animal, mineral, vegetarian\"\n",
    "type (str_var)\n",
    "#price(str_var)\n",
    "str_var = \"animal, mineral, vegetarian\"\n",
    "data_type = type (str_var)\n",
    "sample_text = \"The quick brown fox jumps over the lazy dog.\" \"The fox was quick and the dog was lazy.\"\n",
    "word_counts = count_words(sample_text)\n",
    "print(\"Word counts:\", word_counts)\n",
    "def count_words(text):\n",
    "return word_count\n"
   ]
  },
  {
   "cell_type": "code",
   "execution_count": 114,
   "id": "d73e7cbe-f61c-4bc2-b60e-bdc5f5cf4d5c",
   "metadata": {},
   "outputs": [
    {
     "ename": "IndentationError",
     "evalue": "expected an indented block after function definition on line 21 (3265395197.py, line 22)",
     "output_type": "error",
     "traceback": [
      "\u001b[0;36m  Cell \u001b[0;32mIn[114], line 22\u001b[0;36m\u001b[0m\n\u001b[0;31m    def update_contact(name = None, email = None):\u001b[0m\n\u001b[0m    ^\u001b[0m\n\u001b[0;31mIndentationError\u001b[0m\u001b[0;31m:\u001b[0m expected an indented block after function definition on line 21\n"
     ]
    }
   ],
   "source": [
    "contact_book = {}\n",
    "\n",
    "names = (\"Alice\", \"Bob\", \"Charlie\")\n",
    "print(names)\n",
    "print(type(names))\n",
    "\n",
    "str_var = \"Alice\"\n",
    "str_var = \"Bob\"\n",
    "str_var = \"Charlie\"\n",
    "names = [str_var, str_var1] \n",
    "\n",
    "str_var = \"Alice\"\n",
    "random_list[str_var, int_var: \"Bob\"]\n",
    "print(random_list)\n",
    "\n",
    "student_information = [\"student:\" \"Alice\", \"Bob\", \"Charlie\"]\n",
    "print(student_information)\n",
    "print(type(student_information)) [\"Alice\", \"Bob\", \"Charlie\"]\n",
    "class list: [\"Alice\", \"Bob\", \"Charlie\"]\n",
    "\n",
    "def add_contact(name, phone, email = None):\n",
    "def update_contact(name = None, email = None):\n",
    "def get_contact(name):\n",
    "    return contact_book, get(name, f\"Contact{name} not found\")\n",
    "print (add_contact(\"Alice\", \"555-1234\", \"alice@example.com\"))\n",
    "print(add_contact(\"Bob\", \"555-5678\"))\n",
    "print(get_contact(\"Alice\"))\n",
    "print(update_contact(\"Alice\", email = \"alice.new@example.com\"))\n",
    "print(get_contact(\"Alice\"))\n",
    "print(get_contact(\"Charlie\"))\n",
    "\n",
    "Angela Clark"
   ]
  },
  {
   "cell_type": "code",
   "execution_count": 116,
   "id": "7e92c2ca-b960-4136-abbe-9db166e827c0",
   "metadata": {},
   "outputs": [
    {
     "name": "stdout",
     "output_type": "stream",
     "text": [
      "Iterations through a list:\n",
      "Number: 0\n",
      "Number: 1\n",
      "Number: 2\n",
      "Number: 3\n",
      "Number: 4\n",
      "\n",
      "Using a while loop:\n",
      "Count: 0\n",
      "Count: 1\n",
      "Count: 2\n",
      "Count: 3\n",
      "Count: 4\n"
     ]
    }
   ],
   "source": [
    "print(\"Iterations through a list:\")\n",
    "colors = [\"red\", \"green\", \"blue\", \"yellow\"]\n",
    "for i in range(5):\n",
    "    print(f\"Number: {i}\")\n",
    "\n",
    "print(\"\\nUsing a while loop:\")\n",
    "count = 0\n",
    "while count < 5:\n",
    "    print(f\"Count: {count}\")\n",
    "    count +=1"
   ]
  },
  {
   "cell_type": "code",
   "execution_count": 130,
   "id": "a834ac7f-a32e-4ccd-b9f5-27bcb99ef0c4",
   "metadata": {},
   "outputs": [
    {
     "ename": "IndentationError",
     "evalue": "expected an indented block after 'for' statement on line 5 (2596713406.py, line 6)",
     "output_type": "error",
     "traceback": [
      "\u001b[0;36m  Cell \u001b[0;32mIn[130], line 6\u001b[0;36m\u001b[0m\n\u001b[0;31m    for letter in 'abc':\u001b[0m\n\u001b[0m    ^\u001b[0m\n\u001b[0;31mIndentationError\u001b[0m\u001b[0;31m:\u001b[0m expected an indented block after 'for' statement on line 5\n"
     ]
    }
   ],
   "source": [
    "nums = [1,2,3,4,5]\n",
    "\n",
    "#Factorial of n = n*(n-1)*(n-2)* ...*1\n",
    "\n",
    "for num in nums:\n",
    "for letter in 'abc':\n",
    "    print_(num, letter)\n",
    "    \n",
    "def factorial(n):\n",
    "    if n == 0:\n",
    "        return 1\n",
    "\n",
    "    else:\n",
    "        return n * factorial(n-1)\n",
    "\n",
    "for num in range(6):\n",
    "    print(f\"Factorial of {num} = {factorial(num)}\")"
   ]
  },
  {
   "cell_type": "code",
   "execution_count": 140,
   "id": "c1b4e39e-1f9e-44aa-a199-a5e579da1ac7",
   "metadata": {},
   "outputs": [
    {
     "ename": "IndentationError",
     "evalue": "expected an indented block after function definition on line 6 (1164044157.py, line 8)",
     "output_type": "error",
     "traceback": [
      "\u001b[0;36m  Cell \u001b[0;32mIn[140], line 8\u001b[0;36m\u001b[0m\n\u001b[0;31m    analysis = analyze_student_scores(students_data)\u001b[0m\n\u001b[0m    ^\u001b[0m\n\u001b[0;31mIndentationError\u001b[0m\u001b[0;31m:\u001b[0m expected an indented block after function definition on line 6\n"
     ]
    }
   ],
   "source": [
    "students_data=[\n",
    "    {\"name\": \"Alice\", \"scores\": [85, 92, 95, 85]},\n",
    "    {\"name\": \"Bob\", \"scores\": [90, 87, 88, 81]},\n",
    "    {\"name\": \"David\", \"scores\": [78, 85, 91, 89]}]\n",
    "\n",
    "def analyze_student_scores(students):\n",
    "\n",
    "analysis = analyze_student_scores(students_data)\n",
    "print(\"\\nStudent Analysis\")\n",
    "print(\"Individual Averages:\")\n",
    "for name, average in analysis[\"indiviidual_averages\"]\n",
    "items()\n",
    "    print(f\"{nname}: {average: .2f}\")\n",
    "print(f\"Top Student: {analysis[\"top_average\"]: .2f}\")"
   ]
  },
  {
   "cell_type": "code",
   "execution_count": 144,
   "id": "ae5e3c82-7621-4448-ac9f-c8baa26d1c2d",
   "metadata": {},
   "outputs": [
    {
     "ename": "IndentationError",
     "evalue": "unexpected indent (3917093632.py, line 5)",
     "output_type": "error",
     "traceback": [
      "\u001b[0;36m  Cell \u001b[0;32mIn[144], line 5\u001b[0;36m\u001b[0m\n\u001b[0;31m    {\"month\": \"Feb\", \"category\": \"Electronics\", \"amount\": 1450},\u001b[0m\n\u001b[0m    ^\u001b[0m\n\u001b[0;31mIndentationError\u001b[0m\u001b[0;31m:\u001b[0m unexpected indent\n"
     ]
    }
   ],
   "source": [
    "sales_data = [\n",
    "    {\"month\": \"Jan\", \"category\": \"Electronics\", \"amount\": 1200},\n",
    "    {\"month\": \"Jan\", \"category\": \"Books\", \"amount\": 850},\n",
    "    {\"month\": \"Jan\", \"category\": \"Clothing\", \"amount\": 980}],\n",
    "    {\"month\": \"Feb\", \"category\": \"Electronics\", \"amount\": 1450},\n",
    "    {\"month\": \"Feb\", \"category\": \"Books\", \"amount\": 920},\n",
    "    {\"month\": \"Feb\", \"category\": \"Clothing\", \"amount\": 1050},\n",
    "    {\"month\": \"Mar\", \"category\": \"Electronics\": \"amount\": 1600},\n",
    "    {\"month\": \"Mar\", \"category\": \"Books\", \"amount\": 780},\n",
    "    {\"month\": \"Mar\", \"category\": \"Clothing\", \"amount\": 1200}\n",
    "\n",
    "def analyze_sales(sales):\n",
    "    #Step 1 Calculate total sales per month\n",
    "    #Step 2 Calculate total sales per category\n",
    "    #Step 3 Find the best performing month and category\n",
    "    #Step 4 Calculate overall total sales\n",
    "\n",
    "sales_analysis = analyze_sales (sales_data)\n",
    "print(\"\\nSales Analysis:\")\n",
    "print(\"Monthly Sales:\")\n",
    "for month, amount in sales_analysis [\"monthly_sales\"].items():\n",
    "    print(f\"{month}: ${amount}\")\n",
    "print(\"\\n Category Sales:\")\n",
    "for category amount in sales_analysis [\"category_sales\"). items():\n",
    "    print(f\"\\n Best Month: {sales_analysis [\"best month\"]}\")\n",
    "    print[f\"Best Category: {sales_analysis [\"best_category\"]} with ${sales_analysis [\"category_sales\"][sales_analysis[\"best_category\"]]})\n",
    "    print(f\"Total Sales: $(sales_analysis [\"total_sales\"]}\")"
   ]
  },
  {
   "cell_type": "code",
   "execution_count": null,
   "id": "54a5345d-d4ce-43fe-90a5-eeef07fb9982",
   "metadata": {},
   "outputs": [],
   "source": [
    "Angela Clark"
   ]
  }
 ],
 "metadata": {
  "kernelspec": {
   "display_name": "anaconda-2024.02-py310",
   "language": "python",
   "name": "conda-env-anaconda-2024.02-py310-py"
  },
  "language_info": {
   "codemirror_mode": {
    "name": "ipython",
    "version": 3
   },
   "file_extension": ".py",
   "mimetype": "text/x-python",
   "name": "python",
   "nbconvert_exporter": "python",
   "pygments_lexer": "ipython3",
   "version": "3.10.14"
  }
 },
 "nbformat": 4,
 "nbformat_minor": 5
}
