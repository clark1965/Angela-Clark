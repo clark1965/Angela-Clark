{
 "cells": [
  {
   "cell_type": "code",
   "execution_count": 1,
   "id": "97932842-d479-4a24-a10a-1efe4961980a",
   "metadata": {},
   "outputs": [
    {
     "name": "stdout",
     "output_type": "stream",
     "text": [
      "5 is positive\n"
     ]
    }
   ],
   "source": [
    "number = 5\n",
    "\n",
    "if number > 0:\n",
    "    print(f\"{number} is positive\")\n",
    "elif number < 0:\n",
    "    print(f\"{number} is negative\")\n",
    "else:\n",
    "    print(f\"{number} is zero\")"
   ]
  },
  {
   "cell_type": "code",
   "execution_count": 27,
   "id": "5bea158f-8d8b-4ee2-a358-d61c6356e236",
   "metadata": {},
   "outputs": [
    {
     "ename": "IndentationError",
     "evalue": "expected an indented block after function definition on line 27 (1723390735.py, line 28)",
     "output_type": "error",
     "traceback": [
      "\u001b[0;36m  Cell \u001b[0;32mIn[27], line 28\u001b[0;36m\u001b[0m\n\u001b[0;31m    test_scores = [95, 82, 71, 65, 55]\u001b[0m\n\u001b[0m    ^\u001b[0m\n\u001b[0;31mIndentationError\u001b[0m\u001b[0;31m:\u001b[0m expected an indented block after function definition on line 27\n"
     ]
    }
   ],
   "source": [
    "int_var = 10\n",
    "print(int_var)\n",
    "float_var = 3.14\n",
    "str_var = \"Python\"\n",
    "boolean_true = True\n",
    "\n",
    "print(int_va, type(int_var))\n",
    "print(float_var, type(float_var))\n",
    "print(str_var, type(str-var))\n",
    "print(bool_var, type(bool_var))\n",
    "\n",
    "class float:\n",
    "    class bool:\n",
    "        type(grades);\n",
    "        \n",
    "    if score >> 90:\n",
    "        print(grade) == \"A\"\n",
    "    elif score >= 80:\n",
    "        print(grade) == \"B\"\n",
    "    elif score >= 70:\n",
    "        print(grade) == \"C\"\n",
    "    elif score >= 60:\n",
    "        print(grade) == \"D\"\n",
    "    elif score < 60:\n",
    "        print(grade) == \"F\"\n",
    "\n",
    "def calculate_grade(score):\n",
    "test_scores = [95, 82, 71, 65, 55]\n",
    "for score in test_scores:\n",
    "    print(f\"Score: {score}, Grade: {calculate_grade(score)}\")\n",
    "\n",
    "\n",
    "\n",
    "    "
   ]
  },
  {
   "cell_type": "code",
   "execution_count": 43,
   "id": "cdc67756-c6eb-41b8-9777-ee09a4ffdc56",
   "metadata": {},
   "outputs": [
    {
     "data": {
      "text/plain": [
       "90.0"
      ]
     },
     "execution_count": 43,
     "metadata": {},
     "output_type": "execute_result"
    }
   ],
   "source": [
    "#TASK: Apply a 10% discount to price\n",
    "price = 100\n",
    "\n",
    "discount_dollars = price*.1\n",
    "\n",
    "\n",
    "price - discount_dollars"
   ]
  },
  {
   "cell_type": "code",
   "execution_count": 90,
   "id": "75d7f8dc-db57-4903-8e18-e6952d731195",
   "metadata": {},
   "outputs": [
    {
     "name": "stdout",
     "output_type": "stream",
     "text": [
      "9.0\n"
     ]
    }
   ],
   "source": [
    "def apply_discount(price):\n",
    "    discount_dollars = price*.1\n",
    "    return price - discount_dollars\n",
    "\n",
    "discounted_price = apply_discount(10)\n",
    "print(discounted_price)"
   ]
  },
  {
   "cell_type": "code",
   "execution_count": 68,
   "id": "4cb8bb35-c60a-48f8-8fc7-89c0693a77d1",
   "metadata": {},
   "outputs": [
    {
     "data": {
      "text/plain": [
       "400.0"
      ]
     },
     "execution_count": 68,
     "metadata": {},
     "output_type": "execute_result"
    }
   ],
   "source": [
    "#TASK: Apply a 20% discount to price\n",
    "price = 500\n",
    "discount_dollars = price*.2\n",
    "\n",
    "price - price*.2"
   ]
  },
  {
   "cell_type": "code",
   "execution_count": 69,
   "id": "1de6488e-ce02-4731-aaa1-eeea4114d883",
   "metadata": {},
   "outputs": [
    {
     "data": {
      "text/plain": [
       "16.0"
      ]
     },
     "execution_count": 69,
     "metadata": {},
     "output_type": "execute_result"
    }
   ],
   "source": [
    "def apply_discount(price):\n",
    "    discount_dollars = price*.2\n",
    "    return price - discount_dollars\n",
    "\n",
    "apply_discount(20)"
   ]
  },
  {
   "cell_type": "code",
   "execution_count": 73,
   "id": "a677eaab-de61-473f-9964-6a032fb849d2",
   "metadata": {},
   "outputs": [
    {
     "data": {
      "text/plain": [
       "700.0"
      ]
     },
     "execution_count": 73,
     "metadata": {},
     "output_type": "execute_result"
    }
   ],
   "source": [
    "#TASK:  Apply a 30% discount to price\n",
    "price = 1000\n",
    "discount dollars = price*.3\n",
    "\n",
    "return price - discount dollars"
   ]
  },
  {
   "cell_type": "code",
   "execution_count": 76,
   "id": "71a9fbb7-7b10-4e2a-aa55-27581aecbd3f",
   "metadata": {},
   "outputs": [
    {
     "data": {
      "text/plain": [
       "21.0"
      ]
     },
     "execution_count": 76,
     "metadata": {},
     "output_type": "execute_result"
    }
   ],
   "source": [
    "def apply_discount(price):\n",
    "    discount_dollars = price*.3\n",
    "    return price - discount_dollars\n",
    "\n",
    "apply_discount(30)"
   ]
  },
  {
   "cell_type": "code",
   "execution_count": 80,
   "id": "2d01d0f3-5b43-4866-9639-2a3413648031",
   "metadata": {},
   "outputs": [
    {
     "data": {
      "text/plain": [
       "105.0"
      ]
     },
     "execution_count": 80,
     "metadata": {},
     "output_type": "execute_result"
    }
   ],
   "source": [
    "#Hardcode Approach - EXPLICITLY state out the numbers or elements that we want to use\n",
    "#\n",
    "#Hardcode Approach == BAD\n",
    "#Hardcode != AUTOMATED\n",
    "#Hardcode != REPRODUCIBLE\n",
    "#Hardcode != WRITING ONCE\n",
    "apply_discount(prices[0])\n",
    "apply_discount(prices[1])"
   ]
  },
  {
   "cell_type": "code",
   "execution_count": 106,
   "id": "cad068aa-dd01-46c3-bbd4-5e758a217006",
   "metadata": {},
   "outputs": [
    {
     "name": "stdout",
     "output_type": "stream",
     "text": [
      "45.0\n",
      "135.0\n",
      "540.0\n",
      "1080.0\n"
     ]
    }
   ],
   "source": [
    "# Looping --> going through a collection, element by element or variable by independent variable\n",
    "# 2 main types of loops: 'for' loop and a 'while' loop[\n",
    "\n",
    "# Syntax of a 'for' loop\n",
    "# 'for' loop --> for arbitrary element name:> in COLLECTION_ELEMENT_NAME:\n",
    "#{indentation] do_something\n",
    "# prices = [50,150,600,1200]\n",
    "\n",
    "# go through each integer in list of integers and apply function\n",
    "# HINT - the name for temporary element from our collection can be *ANYTHING*\n",
    "discounted_price_list = []\n",
    "for full_price in prices:\n",
    "    discounted_price = (apply_discount(full_price))\n",
    "    discounted_price_list.append(discounted_price)"
   ]
  },
  {
   "cell_type": "code",
   "execution_count": 107,
   "id": "339619cb-0725-47de-b3c8-b4edc951da57",
   "metadata": {},
   "outputs": [
    {
     "name": "stdout",
     "output_type": "stream",
     "text": [
      "1080.0\n"
     ]
    }
   ],
   "source": [
    "print(discounted_price)"
   ]
  },
  {
   "cell_type": "code",
   "execution_count": 109,
   "id": "0b4c7b5a-58a0-4fe1-97df-2dd8c31de441",
   "metadata": {},
   "outputs": [
    {
     "ename": "NameError",
     "evalue": "name 'discounted_price_list' is not defined",
     "output_type": "error",
     "traceback": [
      "\u001b[0;31m---------------------------------------------------------------------------\u001b[0m",
      "\u001b[0;31mNameError\u001b[0m                                 Traceback (most recent call last)",
      "Cell \u001b[0;32mIn[109], line 1\u001b[0m\n\u001b[0;32m----> 1\u001b[0m \u001b[38;5;28mprint\u001b[39m(discounted_price_list)\n",
      "\u001b[0;31mNameError\u001b[0m: name 'discounted_price_list' is not defined"
     ]
    }
   ],
   "source": [
    "print(discounted_price_list)"
   ]
  },
  {
   "cell_type": "code",
   "execution_count": 106,
   "id": "db04e1f4-a496-4735-a3f2-43a9b8b6d1bb",
   "metadata": {},
   "outputs": [
    {
     "name": "stdout",
     "output_type": "stream",
     "text": [
      "45.0\n",
      "135.0\n",
      "540.0\n",
      "1080.0\n"
     ]
    }
   ],
   "source": [
    "price_dictionary = {\"apple_price\": 5,\n",
    "                    \"banana_price\": 10}\n",
    "\n",
    "# go through each integer in list of integers and apply function\n",
    "# HINT - the name for temporary element from our collection can be *ANYTHING*\n",
    "discounted_price_list = []\n",
    "for full_price in price_dictionary:\n",
    "    discounted_price = (apply_discount(full_price))\n",
    "    discounted_price_list.append(discounted_price)"
   ]
  },
  {
   "cell_type": "code",
   "execution_count": 110,
   "id": "2880711f-8878-4d0f-80a6-76b858e04fbb",
   "metadata": {},
   "outputs": [
    {
     "ename": "NameError",
     "evalue": "name 'A' is not defined",
     "output_type": "error",
     "traceback": [
      "\u001b[0;31m---------------------------------------------------------------------------\u001b[0m",
      "\u001b[0;31mNameError\u001b[0m                                 Traceback (most recent call last)",
      "Cell \u001b[0;32mIn[110], line 1\u001b[0m\n\u001b[0;32m----> 1\u001b[0m A\n",
      "\u001b[0;31mNameError\u001b[0m: name 'A' is not defined"
     ]
    }
   ],
   "source": [
    "Angela Clark"
   ]
  },
  {
   "cell_type": "code",
   "execution_count": null,
   "id": "ddd78089-6212-4f6e-b967-1f259af15507",
   "metadata": {},
   "outputs": [],
   "source": [
    "n"
   ]
  }
 ],
 "metadata": {
  "kernelspec": {
   "display_name": "anaconda-panel-2023.05-py310",
   "language": "python",
   "name": "conda-env-anaconda-panel-2023.05-py310-py"
  },
  "language_info": {
   "codemirror_mode": {
    "name": "ipython",
    "version": 3
   },
   "file_extension": ".py",
   "mimetype": "text/x-python",
   "name": "python",
   "nbconvert_exporter": "python",
   "pygments_lexer": "ipython3",
   "version": "3.11.5"
  }
 },
 "nbformat": 4,
 "nbformat_minor": 5
}
